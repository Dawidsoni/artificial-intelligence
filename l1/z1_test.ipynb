{
 "cells": [
  {
   "cell_type": "code",
   "execution_count": 1,
   "metadata": {
    "collapsed": false
   },
   "outputs": [],
   "source": [
    "from z1 import *\n",
    "import tabulate\n",
    "from IPython.core.display import display, HTML"
   ]
  },
  {
   "cell_type": "code",
   "execution_count": 2,
   "metadata": {
    "collapsed": false
   },
   "outputs": [],
   "source": [
    "figures = ('♔'.decode('utf-8'), '♖'.decode('utf-8'), '♚'.decode('utf-8'))"
   ]
  },
  {
   "cell_type": "code",
   "execution_count": 3,
   "metadata": {
    "collapsed": true
   },
   "outputs": [],
   "source": [
    "def pos2d(s):\n",
    "    \"\"\"\n",
    "        s - position on the board, for example 'a3' or 'h8'\n",
    "    \"\"\"\n",
    "    column = ord(s[0]) - ord('a')\n",
    "    row = ord(s[1]) - ord('1')\n",
    "    return column, row\n",
    "\n",
    "def print_board(wk, wt, bk):\n",
    "    \"\"\"\n",
    "        wk - position of the white king\n",
    "        wt - position of the white tower\n",
    "        bk - position of the black king\n",
    "      \"\"\"\n",
    "    board = [ [' ' for i in range(8)] for j in range(8) ] \n",
    "    c,r = pos2d(wk)\n",
    "    board[r][c] = figures[0]\n",
    "    c,r = pos2d(wt)\n",
    "    board[r][c] = figures[1]\n",
    "    c,r = pos2d(bk)\n",
    "    board[r][c] = figures[2]\n",
    "    board = [ ([chr(j+49)] + board[j]) for j in range(8) ] + [ [' '] +  [chr(j+97) for j in range(8)] ]\n",
    "    display(HTML(tabulate.tabulate(board, tablefmt='html').replace(\n",
    "        '<table>', '<table style=\"border: 2px solid black;\">').replace(\n",
    "        '<td>'   , '<td    style=\"border: 1px solid black;\">')\n",
    "    ))\n",
    "\n",
    "def print_state_board(game_state):\n",
    "    piece_list = [game_state.king0_pos, game_state.rook0_pos, game_state.king1_pos]\n",
    "    decoded_list = map(lambda x: decode_position(x), piece_list)\n",
    "    print_board(*decoded_list)"
   ]
  },
  {
   "cell_type": "code",
   "execution_count": 4,
   "metadata": {
    "collapsed": false,
    "scrolled": false
   },
   "outputs": [],
   "source": [
    "def simulate_game(player_str, king0_str, rook0_str, king1_str):\n",
    "    game_state = create_game_state(player_str, king0_str, rook0_str, king1_str)\n",
    "    state_list = get_step_path(game_state)\n",
    "    print(\"Step count: %d\" % (len(state_list) - 1))\n",
    "    for state in state_list:\n",
    "        print_state_board(state)\n",
    "    return state_list"
   ]
  },
  {
   "cell_type": "code",
   "execution_count": 5,
   "metadata": {
    "collapsed": false,
    "scrolled": false
   },
   "outputs": [
    {
     "name": "stdout",
     "output_type": "stream",
     "text": [
      "Step count: 6\n"
     ]
    },
    {
     "data": {
      "text/html": [
       "<table style=\"border: 2px solid black;\">\n",
       "<tr><td    style=\"border: 1px solid black;\">1</td><td    style=\"border: 1px solid black;\"> </td><td    style=\"border: 1px solid black;\"> </td><td    style=\"border: 1px solid black;\"> </td><td    style=\"border: 1px solid black;\"> </td><td    style=\"border: 1px solid black;\"> </td><td    style=\"border: 1px solid black;\"> </td><td    style=\"border: 1px solid black;\"> </td><td    style=\"border: 1px solid black;\"> </td></tr>\n",
       "<tr><td    style=\"border: 1px solid black;\">2</td><td    style=\"border: 1px solid black;\"> </td><td    style=\"border: 1px solid black;\"> </td><td    style=\"border: 1px solid black;\"> </td><td    style=\"border: 1px solid black;\"> </td><td    style=\"border: 1px solid black;\"> </td><td    style=\"border: 1px solid black;\"> </td><td    style=\"border: 1px solid black;\"> </td><td    style=\"border: 1px solid black;\"> </td></tr>\n",
       "<tr><td    style=\"border: 1px solid black;\">3</td><td    style=\"border: 1px solid black;\"> </td><td    style=\"border: 1px solid black;\"> </td><td    style=\"border: 1px solid black;\"> </td><td    style=\"border: 1px solid black;\"> </td><td    style=\"border: 1px solid black;\"> </td><td    style=\"border: 1px solid black;\"> </td><td    style=\"border: 1px solid black;\"> </td><td    style=\"border: 1px solid black;\">♚</td></tr>\n",
       "<tr><td    style=\"border: 1px solid black;\">4</td><td    style=\"border: 1px solid black;\"> </td><td    style=\"border: 1px solid black;\"> </td><td    style=\"border: 1px solid black;\">♔</td><td    style=\"border: 1px solid black;\"> </td><td    style=\"border: 1px solid black;\"> </td><td    style=\"border: 1px solid black;\"> </td><td    style=\"border: 1px solid black;\"> </td><td    style=\"border: 1px solid black;\"> </td></tr>\n",
       "<tr><td    style=\"border: 1px solid black;\">5</td><td    style=\"border: 1px solid black;\"> </td><td    style=\"border: 1px solid black;\"> </td><td    style=\"border: 1px solid black;\"> </td><td    style=\"border: 1px solid black;\"> </td><td    style=\"border: 1px solid black;\"> </td><td    style=\"border: 1px solid black;\"> </td><td    style=\"border: 1px solid black;\"> </td><td    style=\"border: 1px solid black;\"> </td></tr>\n",
       "<tr><td    style=\"border: 1px solid black;\">6</td><td    style=\"border: 1px solid black;\"> </td><td    style=\"border: 1px solid black;\"> </td><td    style=\"border: 1px solid black;\"> </td><td    style=\"border: 1px solid black;\"> </td><td    style=\"border: 1px solid black;\"> </td><td    style=\"border: 1px solid black;\"> </td><td    style=\"border: 1px solid black;\"> </td><td    style=\"border: 1px solid black;\"> </td></tr>\n",
       "<tr><td    style=\"border: 1px solid black;\">7</td><td    style=\"border: 1px solid black;\"> </td><td    style=\"border: 1px solid black;\"> </td><td    style=\"border: 1px solid black;\"> </td><td    style=\"border: 1px solid black;\"> </td><td    style=\"border: 1px solid black;\"> </td><td    style=\"border: 1px solid black;\"> </td><td    style=\"border: 1px solid black;\"> </td><td    style=\"border: 1px solid black;\"> </td></tr>\n",
       "<tr><td    style=\"border: 1px solid black;\">8</td><td    style=\"border: 1px solid black;\"> </td><td    style=\"border: 1px solid black;\"> </td><td    style=\"border: 1px solid black;\">♖</td><td    style=\"border: 1px solid black;\"> </td><td    style=\"border: 1px solid black;\"> </td><td    style=\"border: 1px solid black;\"> </td><td    style=\"border: 1px solid black;\"> </td><td    style=\"border: 1px solid black;\"> </td></tr>\n",
       "<tr><td    style=\"border: 1px solid black;\"> </td><td    style=\"border: 1px solid black;\">a</td><td    style=\"border: 1px solid black;\">b</td><td    style=\"border: 1px solid black;\">c</td><td    style=\"border: 1px solid black;\">d</td><td    style=\"border: 1px solid black;\">e</td><td    style=\"border: 1px solid black;\">f</td><td    style=\"border: 1px solid black;\">g</td><td    style=\"border: 1px solid black;\">h</td></tr>\n",
       "</table>"
      ],
      "text/plain": [
       "<IPython.core.display.HTML object>"
      ]
     },
     "metadata": {},
     "output_type": "display_data"
    },
    {
     "data": {
      "text/html": [
       "<table style=\"border: 2px solid black;\">\n",
       "<tr><td    style=\"border: 1px solid black;\">1</td><td    style=\"border: 1px solid black;\"> </td><td    style=\"border: 1px solid black;\"> </td><td    style=\"border: 1px solid black;\"> </td><td    style=\"border: 1px solid black;\"> </td><td    style=\"border: 1px solid black;\"> </td><td    style=\"border: 1px solid black;\"> </td><td    style=\"border: 1px solid black;\"> </td><td    style=\"border: 1px solid black;\"> </td></tr>\n",
       "<tr><td    style=\"border: 1px solid black;\">2</td><td    style=\"border: 1px solid black;\"> </td><td    style=\"border: 1px solid black;\"> </td><td    style=\"border: 1px solid black;\"> </td><td    style=\"border: 1px solid black;\"> </td><td    style=\"border: 1px solid black;\"> </td><td    style=\"border: 1px solid black;\"> </td><td    style=\"border: 1px solid black;\">♚</td><td    style=\"border: 1px solid black;\"> </td></tr>\n",
       "<tr><td    style=\"border: 1px solid black;\">3</td><td    style=\"border: 1px solid black;\"> </td><td    style=\"border: 1px solid black;\"> </td><td    style=\"border: 1px solid black;\"> </td><td    style=\"border: 1px solid black;\"> </td><td    style=\"border: 1px solid black;\"> </td><td    style=\"border: 1px solid black;\"> </td><td    style=\"border: 1px solid black;\"> </td><td    style=\"border: 1px solid black;\"> </td></tr>\n",
       "<tr><td    style=\"border: 1px solid black;\">4</td><td    style=\"border: 1px solid black;\"> </td><td    style=\"border: 1px solid black;\"> </td><td    style=\"border: 1px solid black;\">♔</td><td    style=\"border: 1px solid black;\"> </td><td    style=\"border: 1px solid black;\"> </td><td    style=\"border: 1px solid black;\"> </td><td    style=\"border: 1px solid black;\"> </td><td    style=\"border: 1px solid black;\"> </td></tr>\n",
       "<tr><td    style=\"border: 1px solid black;\">5</td><td    style=\"border: 1px solid black;\"> </td><td    style=\"border: 1px solid black;\"> </td><td    style=\"border: 1px solid black;\"> </td><td    style=\"border: 1px solid black;\"> </td><td    style=\"border: 1px solid black;\"> </td><td    style=\"border: 1px solid black;\"> </td><td    style=\"border: 1px solid black;\"> </td><td    style=\"border: 1px solid black;\"> </td></tr>\n",
       "<tr><td    style=\"border: 1px solid black;\">6</td><td    style=\"border: 1px solid black;\"> </td><td    style=\"border: 1px solid black;\"> </td><td    style=\"border: 1px solid black;\"> </td><td    style=\"border: 1px solid black;\"> </td><td    style=\"border: 1px solid black;\"> </td><td    style=\"border: 1px solid black;\"> </td><td    style=\"border: 1px solid black;\"> </td><td    style=\"border: 1px solid black;\"> </td></tr>\n",
       "<tr><td    style=\"border: 1px solid black;\">7</td><td    style=\"border: 1px solid black;\"> </td><td    style=\"border: 1px solid black;\"> </td><td    style=\"border: 1px solid black;\"> </td><td    style=\"border: 1px solid black;\"> </td><td    style=\"border: 1px solid black;\"> </td><td    style=\"border: 1px solid black;\"> </td><td    style=\"border: 1px solid black;\"> </td><td    style=\"border: 1px solid black;\"> </td></tr>\n",
       "<tr><td    style=\"border: 1px solid black;\">8</td><td    style=\"border: 1px solid black;\"> </td><td    style=\"border: 1px solid black;\"> </td><td    style=\"border: 1px solid black;\">♖</td><td    style=\"border: 1px solid black;\"> </td><td    style=\"border: 1px solid black;\"> </td><td    style=\"border: 1px solid black;\"> </td><td    style=\"border: 1px solid black;\"> </td><td    style=\"border: 1px solid black;\"> </td></tr>\n",
       "<tr><td    style=\"border: 1px solid black;\"> </td><td    style=\"border: 1px solid black;\">a</td><td    style=\"border: 1px solid black;\">b</td><td    style=\"border: 1px solid black;\">c</td><td    style=\"border: 1px solid black;\">d</td><td    style=\"border: 1px solid black;\">e</td><td    style=\"border: 1px solid black;\">f</td><td    style=\"border: 1px solid black;\">g</td><td    style=\"border: 1px solid black;\">h</td></tr>\n",
       "</table>"
      ],
      "text/plain": [
       "<IPython.core.display.HTML object>"
      ]
     },
     "metadata": {},
     "output_type": "display_data"
    },
    {
     "data": {
      "text/html": [
       "<table style=\"border: 2px solid black;\">\n",
       "<tr><td    style=\"border: 1px solid black;\">1</td><td    style=\"border: 1px solid black;\"> </td><td    style=\"border: 1px solid black;\"> </td><td    style=\"border: 1px solid black;\"> </td><td    style=\"border: 1px solid black;\"> </td><td    style=\"border: 1px solid black;\"> </td><td    style=\"border: 1px solid black;\"> </td><td    style=\"border: 1px solid black;\"> </td><td    style=\"border: 1px solid black;\"> </td></tr>\n",
       "<tr><td    style=\"border: 1px solid black;\">2</td><td    style=\"border: 1px solid black;\"> </td><td    style=\"border: 1px solid black;\"> </td><td    style=\"border: 1px solid black;\"> </td><td    style=\"border: 1px solid black;\"> </td><td    style=\"border: 1px solid black;\"> </td><td    style=\"border: 1px solid black;\"> </td><td    style=\"border: 1px solid black;\">♚</td><td    style=\"border: 1px solid black;\"> </td></tr>\n",
       "<tr><td    style=\"border: 1px solid black;\">3</td><td    style=\"border: 1px solid black;\"> </td><td    style=\"border: 1px solid black;\"> </td><td    style=\"border: 1px solid black;\"> </td><td    style=\"border: 1px solid black;\">♔</td><td    style=\"border: 1px solid black;\"> </td><td    style=\"border: 1px solid black;\"> </td><td    style=\"border: 1px solid black;\"> </td><td    style=\"border: 1px solid black;\"> </td></tr>\n",
       "<tr><td    style=\"border: 1px solid black;\">4</td><td    style=\"border: 1px solid black;\"> </td><td    style=\"border: 1px solid black;\"> </td><td    style=\"border: 1px solid black;\"> </td><td    style=\"border: 1px solid black;\"> </td><td    style=\"border: 1px solid black;\"> </td><td    style=\"border: 1px solid black;\"> </td><td    style=\"border: 1px solid black;\"> </td><td    style=\"border: 1px solid black;\"> </td></tr>\n",
       "<tr><td    style=\"border: 1px solid black;\">5</td><td    style=\"border: 1px solid black;\"> </td><td    style=\"border: 1px solid black;\"> </td><td    style=\"border: 1px solid black;\"> </td><td    style=\"border: 1px solid black;\"> </td><td    style=\"border: 1px solid black;\"> </td><td    style=\"border: 1px solid black;\"> </td><td    style=\"border: 1px solid black;\"> </td><td    style=\"border: 1px solid black;\"> </td></tr>\n",
       "<tr><td    style=\"border: 1px solid black;\">6</td><td    style=\"border: 1px solid black;\"> </td><td    style=\"border: 1px solid black;\"> </td><td    style=\"border: 1px solid black;\"> </td><td    style=\"border: 1px solid black;\"> </td><td    style=\"border: 1px solid black;\"> </td><td    style=\"border: 1px solid black;\"> </td><td    style=\"border: 1px solid black;\"> </td><td    style=\"border: 1px solid black;\"> </td></tr>\n",
       "<tr><td    style=\"border: 1px solid black;\">7</td><td    style=\"border: 1px solid black;\"> </td><td    style=\"border: 1px solid black;\"> </td><td    style=\"border: 1px solid black;\"> </td><td    style=\"border: 1px solid black;\"> </td><td    style=\"border: 1px solid black;\"> </td><td    style=\"border: 1px solid black;\"> </td><td    style=\"border: 1px solid black;\"> </td><td    style=\"border: 1px solid black;\"> </td></tr>\n",
       "<tr><td    style=\"border: 1px solid black;\">8</td><td    style=\"border: 1px solid black;\"> </td><td    style=\"border: 1px solid black;\"> </td><td    style=\"border: 1px solid black;\">♖</td><td    style=\"border: 1px solid black;\"> </td><td    style=\"border: 1px solid black;\"> </td><td    style=\"border: 1px solid black;\"> </td><td    style=\"border: 1px solid black;\"> </td><td    style=\"border: 1px solid black;\"> </td></tr>\n",
       "<tr><td    style=\"border: 1px solid black;\"> </td><td    style=\"border: 1px solid black;\">a</td><td    style=\"border: 1px solid black;\">b</td><td    style=\"border: 1px solid black;\">c</td><td    style=\"border: 1px solid black;\">d</td><td    style=\"border: 1px solid black;\">e</td><td    style=\"border: 1px solid black;\">f</td><td    style=\"border: 1px solid black;\">g</td><td    style=\"border: 1px solid black;\">h</td></tr>\n",
       "</table>"
      ],
      "text/plain": [
       "<IPython.core.display.HTML object>"
      ]
     },
     "metadata": {},
     "output_type": "display_data"
    },
    {
     "data": {
      "text/html": [
       "<table style=\"border: 2px solid black;\">\n",
       "<tr><td    style=\"border: 1px solid black;\">1</td><td    style=\"border: 1px solid black;\"> </td><td    style=\"border: 1px solid black;\"> </td><td    style=\"border: 1px solid black;\"> </td><td    style=\"border: 1px solid black;\"> </td><td    style=\"border: 1px solid black;\"> </td><td    style=\"border: 1px solid black;\">♚</td><td    style=\"border: 1px solid black;\"> </td><td    style=\"border: 1px solid black;\"> </td></tr>\n",
       "<tr><td    style=\"border: 1px solid black;\">2</td><td    style=\"border: 1px solid black;\"> </td><td    style=\"border: 1px solid black;\"> </td><td    style=\"border: 1px solid black;\"> </td><td    style=\"border: 1px solid black;\"> </td><td    style=\"border: 1px solid black;\"> </td><td    style=\"border: 1px solid black;\"> </td><td    style=\"border: 1px solid black;\"> </td><td    style=\"border: 1px solid black;\"> </td></tr>\n",
       "<tr><td    style=\"border: 1px solid black;\">3</td><td    style=\"border: 1px solid black;\"> </td><td    style=\"border: 1px solid black;\"> </td><td    style=\"border: 1px solid black;\"> </td><td    style=\"border: 1px solid black;\">♔</td><td    style=\"border: 1px solid black;\"> </td><td    style=\"border: 1px solid black;\"> </td><td    style=\"border: 1px solid black;\"> </td><td    style=\"border: 1px solid black;\"> </td></tr>\n",
       "<tr><td    style=\"border: 1px solid black;\">4</td><td    style=\"border: 1px solid black;\"> </td><td    style=\"border: 1px solid black;\"> </td><td    style=\"border: 1px solid black;\"> </td><td    style=\"border: 1px solid black;\"> </td><td    style=\"border: 1px solid black;\"> </td><td    style=\"border: 1px solid black;\"> </td><td    style=\"border: 1px solid black;\"> </td><td    style=\"border: 1px solid black;\"> </td></tr>\n",
       "<tr><td    style=\"border: 1px solid black;\">5</td><td    style=\"border: 1px solid black;\"> </td><td    style=\"border: 1px solid black;\"> </td><td    style=\"border: 1px solid black;\"> </td><td    style=\"border: 1px solid black;\"> </td><td    style=\"border: 1px solid black;\"> </td><td    style=\"border: 1px solid black;\"> </td><td    style=\"border: 1px solid black;\"> </td><td    style=\"border: 1px solid black;\"> </td></tr>\n",
       "<tr><td    style=\"border: 1px solid black;\">6</td><td    style=\"border: 1px solid black;\"> </td><td    style=\"border: 1px solid black;\"> </td><td    style=\"border: 1px solid black;\"> </td><td    style=\"border: 1px solid black;\"> </td><td    style=\"border: 1px solid black;\"> </td><td    style=\"border: 1px solid black;\"> </td><td    style=\"border: 1px solid black;\"> </td><td    style=\"border: 1px solid black;\"> </td></tr>\n",
       "<tr><td    style=\"border: 1px solid black;\">7</td><td    style=\"border: 1px solid black;\"> </td><td    style=\"border: 1px solid black;\"> </td><td    style=\"border: 1px solid black;\"> </td><td    style=\"border: 1px solid black;\"> </td><td    style=\"border: 1px solid black;\"> </td><td    style=\"border: 1px solid black;\"> </td><td    style=\"border: 1px solid black;\"> </td><td    style=\"border: 1px solid black;\"> </td></tr>\n",
       "<tr><td    style=\"border: 1px solid black;\">8</td><td    style=\"border: 1px solid black;\"> </td><td    style=\"border: 1px solid black;\"> </td><td    style=\"border: 1px solid black;\">♖</td><td    style=\"border: 1px solid black;\"> </td><td    style=\"border: 1px solid black;\"> </td><td    style=\"border: 1px solid black;\"> </td><td    style=\"border: 1px solid black;\"> </td><td    style=\"border: 1px solid black;\"> </td></tr>\n",
       "<tr><td    style=\"border: 1px solid black;\"> </td><td    style=\"border: 1px solid black;\">a</td><td    style=\"border: 1px solid black;\">b</td><td    style=\"border: 1px solid black;\">c</td><td    style=\"border: 1px solid black;\">d</td><td    style=\"border: 1px solid black;\">e</td><td    style=\"border: 1px solid black;\">f</td><td    style=\"border: 1px solid black;\">g</td><td    style=\"border: 1px solid black;\">h</td></tr>\n",
       "</table>"
      ],
      "text/plain": [
       "<IPython.core.display.HTML object>"
      ]
     },
     "metadata": {},
     "output_type": "display_data"
    },
    {
     "data": {
      "text/html": [
       "<table style=\"border: 2px solid black;\">\n",
       "<tr><td    style=\"border: 1px solid black;\">1</td><td    style=\"border: 1px solid black;\"> </td><td    style=\"border: 1px solid black;\"> </td><td    style=\"border: 1px solid black;\"> </td><td    style=\"border: 1px solid black;\"> </td><td    style=\"border: 1px solid black;\"> </td><td    style=\"border: 1px solid black;\">♚</td><td    style=\"border: 1px solid black;\"> </td><td    style=\"border: 1px solid black;\"> </td></tr>\n",
       "<tr><td    style=\"border: 1px solid black;\">2</td><td    style=\"border: 1px solid black;\"> </td><td    style=\"border: 1px solid black;\"> </td><td    style=\"border: 1px solid black;\"> </td><td    style=\"border: 1px solid black;\"> </td><td    style=\"border: 1px solid black;\"> </td><td    style=\"border: 1px solid black;\"> </td><td    style=\"border: 1px solid black;\"> </td><td    style=\"border: 1px solid black;\"> </td></tr>\n",
       "<tr><td    style=\"border: 1px solid black;\">3</td><td    style=\"border: 1px solid black;\"> </td><td    style=\"border: 1px solid black;\"> </td><td    style=\"border: 1px solid black;\"> </td><td    style=\"border: 1px solid black;\"> </td><td    style=\"border: 1px solid black;\">♔</td><td    style=\"border: 1px solid black;\"> </td><td    style=\"border: 1px solid black;\"> </td><td    style=\"border: 1px solid black;\"> </td></tr>\n",
       "<tr><td    style=\"border: 1px solid black;\">4</td><td    style=\"border: 1px solid black;\"> </td><td    style=\"border: 1px solid black;\"> </td><td    style=\"border: 1px solid black;\"> </td><td    style=\"border: 1px solid black;\"> </td><td    style=\"border: 1px solid black;\"> </td><td    style=\"border: 1px solid black;\"> </td><td    style=\"border: 1px solid black;\"> </td><td    style=\"border: 1px solid black;\"> </td></tr>\n",
       "<tr><td    style=\"border: 1px solid black;\">5</td><td    style=\"border: 1px solid black;\"> </td><td    style=\"border: 1px solid black;\"> </td><td    style=\"border: 1px solid black;\"> </td><td    style=\"border: 1px solid black;\"> </td><td    style=\"border: 1px solid black;\"> </td><td    style=\"border: 1px solid black;\"> </td><td    style=\"border: 1px solid black;\"> </td><td    style=\"border: 1px solid black;\"> </td></tr>\n",
       "<tr><td    style=\"border: 1px solid black;\">6</td><td    style=\"border: 1px solid black;\"> </td><td    style=\"border: 1px solid black;\"> </td><td    style=\"border: 1px solid black;\"> </td><td    style=\"border: 1px solid black;\"> </td><td    style=\"border: 1px solid black;\"> </td><td    style=\"border: 1px solid black;\"> </td><td    style=\"border: 1px solid black;\"> </td><td    style=\"border: 1px solid black;\"> </td></tr>\n",
       "<tr><td    style=\"border: 1px solid black;\">7</td><td    style=\"border: 1px solid black;\"> </td><td    style=\"border: 1px solid black;\"> </td><td    style=\"border: 1px solid black;\"> </td><td    style=\"border: 1px solid black;\"> </td><td    style=\"border: 1px solid black;\"> </td><td    style=\"border: 1px solid black;\"> </td><td    style=\"border: 1px solid black;\"> </td><td    style=\"border: 1px solid black;\"> </td></tr>\n",
       "<tr><td    style=\"border: 1px solid black;\">8</td><td    style=\"border: 1px solid black;\"> </td><td    style=\"border: 1px solid black;\"> </td><td    style=\"border: 1px solid black;\">♖</td><td    style=\"border: 1px solid black;\"> </td><td    style=\"border: 1px solid black;\"> </td><td    style=\"border: 1px solid black;\"> </td><td    style=\"border: 1px solid black;\"> </td><td    style=\"border: 1px solid black;\"> </td></tr>\n",
       "<tr><td    style=\"border: 1px solid black;\"> </td><td    style=\"border: 1px solid black;\">a</td><td    style=\"border: 1px solid black;\">b</td><td    style=\"border: 1px solid black;\">c</td><td    style=\"border: 1px solid black;\">d</td><td    style=\"border: 1px solid black;\">e</td><td    style=\"border: 1px solid black;\">f</td><td    style=\"border: 1px solid black;\">g</td><td    style=\"border: 1px solid black;\">h</td></tr>\n",
       "</table>"
      ],
      "text/plain": [
       "<IPython.core.display.HTML object>"
      ]
     },
     "metadata": {},
     "output_type": "display_data"
    },
    {
     "data": {
      "text/html": [
       "<table style=\"border: 2px solid black;\">\n",
       "<tr><td    style=\"border: 1px solid black;\">1</td><td    style=\"border: 1px solid black;\"> </td><td    style=\"border: 1px solid black;\"> </td><td    style=\"border: 1px solid black;\"> </td><td    style=\"border: 1px solid black;\"> </td><td    style=\"border: 1px solid black;\">♚</td><td    style=\"border: 1px solid black;\"> </td><td    style=\"border: 1px solid black;\"> </td><td    style=\"border: 1px solid black;\"> </td></tr>\n",
       "<tr><td    style=\"border: 1px solid black;\">2</td><td    style=\"border: 1px solid black;\"> </td><td    style=\"border: 1px solid black;\"> </td><td    style=\"border: 1px solid black;\"> </td><td    style=\"border: 1px solid black;\"> </td><td    style=\"border: 1px solid black;\"> </td><td    style=\"border: 1px solid black;\"> </td><td    style=\"border: 1px solid black;\"> </td><td    style=\"border: 1px solid black;\"> </td></tr>\n",
       "<tr><td    style=\"border: 1px solid black;\">3</td><td    style=\"border: 1px solid black;\"> </td><td    style=\"border: 1px solid black;\"> </td><td    style=\"border: 1px solid black;\"> </td><td    style=\"border: 1px solid black;\"> </td><td    style=\"border: 1px solid black;\">♔</td><td    style=\"border: 1px solid black;\"> </td><td    style=\"border: 1px solid black;\"> </td><td    style=\"border: 1px solid black;\"> </td></tr>\n",
       "<tr><td    style=\"border: 1px solid black;\">4</td><td    style=\"border: 1px solid black;\"> </td><td    style=\"border: 1px solid black;\"> </td><td    style=\"border: 1px solid black;\"> </td><td    style=\"border: 1px solid black;\"> </td><td    style=\"border: 1px solid black;\"> </td><td    style=\"border: 1px solid black;\"> </td><td    style=\"border: 1px solid black;\"> </td><td    style=\"border: 1px solid black;\"> </td></tr>\n",
       "<tr><td    style=\"border: 1px solid black;\">5</td><td    style=\"border: 1px solid black;\"> </td><td    style=\"border: 1px solid black;\"> </td><td    style=\"border: 1px solid black;\"> </td><td    style=\"border: 1px solid black;\"> </td><td    style=\"border: 1px solid black;\"> </td><td    style=\"border: 1px solid black;\"> </td><td    style=\"border: 1px solid black;\"> </td><td    style=\"border: 1px solid black;\"> </td></tr>\n",
       "<tr><td    style=\"border: 1px solid black;\">6</td><td    style=\"border: 1px solid black;\"> </td><td    style=\"border: 1px solid black;\"> </td><td    style=\"border: 1px solid black;\"> </td><td    style=\"border: 1px solid black;\"> </td><td    style=\"border: 1px solid black;\"> </td><td    style=\"border: 1px solid black;\"> </td><td    style=\"border: 1px solid black;\"> </td><td    style=\"border: 1px solid black;\"> </td></tr>\n",
       "<tr><td    style=\"border: 1px solid black;\">7</td><td    style=\"border: 1px solid black;\"> </td><td    style=\"border: 1px solid black;\"> </td><td    style=\"border: 1px solid black;\"> </td><td    style=\"border: 1px solid black;\"> </td><td    style=\"border: 1px solid black;\"> </td><td    style=\"border: 1px solid black;\"> </td><td    style=\"border: 1px solid black;\"> </td><td    style=\"border: 1px solid black;\"> </td></tr>\n",
       "<tr><td    style=\"border: 1px solid black;\">8</td><td    style=\"border: 1px solid black;\"> </td><td    style=\"border: 1px solid black;\"> </td><td    style=\"border: 1px solid black;\">♖</td><td    style=\"border: 1px solid black;\"> </td><td    style=\"border: 1px solid black;\"> </td><td    style=\"border: 1px solid black;\"> </td><td    style=\"border: 1px solid black;\"> </td><td    style=\"border: 1px solid black;\"> </td></tr>\n",
       "<tr><td    style=\"border: 1px solid black;\"> </td><td    style=\"border: 1px solid black;\">a</td><td    style=\"border: 1px solid black;\">b</td><td    style=\"border: 1px solid black;\">c</td><td    style=\"border: 1px solid black;\">d</td><td    style=\"border: 1px solid black;\">e</td><td    style=\"border: 1px solid black;\">f</td><td    style=\"border: 1px solid black;\">g</td><td    style=\"border: 1px solid black;\">h</td></tr>\n",
       "</table>"
      ],
      "text/plain": [
       "<IPython.core.display.HTML object>"
      ]
     },
     "metadata": {},
     "output_type": "display_data"
    },
    {
     "data": {
      "text/html": [
       "<table style=\"border: 2px solid black;\">\n",
       "<tr><td    style=\"border: 1px solid black;\">1</td><td    style=\"border: 1px solid black;\"> </td><td    style=\"border: 1px solid black;\"> </td><td    style=\"border: 1px solid black;\">♖</td><td    style=\"border: 1px solid black;\"> </td><td    style=\"border: 1px solid black;\">♚</td><td    style=\"border: 1px solid black;\"> </td><td    style=\"border: 1px solid black;\"> </td><td    style=\"border: 1px solid black;\"> </td></tr>\n",
       "<tr><td    style=\"border: 1px solid black;\">2</td><td    style=\"border: 1px solid black;\"> </td><td    style=\"border: 1px solid black;\"> </td><td    style=\"border: 1px solid black;\"> </td><td    style=\"border: 1px solid black;\"> </td><td    style=\"border: 1px solid black;\"> </td><td    style=\"border: 1px solid black;\"> </td><td    style=\"border: 1px solid black;\"> </td><td    style=\"border: 1px solid black;\"> </td></tr>\n",
       "<tr><td    style=\"border: 1px solid black;\">3</td><td    style=\"border: 1px solid black;\"> </td><td    style=\"border: 1px solid black;\"> </td><td    style=\"border: 1px solid black;\"> </td><td    style=\"border: 1px solid black;\"> </td><td    style=\"border: 1px solid black;\">♔</td><td    style=\"border: 1px solid black;\"> </td><td    style=\"border: 1px solid black;\"> </td><td    style=\"border: 1px solid black;\"> </td></tr>\n",
       "<tr><td    style=\"border: 1px solid black;\">4</td><td    style=\"border: 1px solid black;\"> </td><td    style=\"border: 1px solid black;\"> </td><td    style=\"border: 1px solid black;\"> </td><td    style=\"border: 1px solid black;\"> </td><td    style=\"border: 1px solid black;\"> </td><td    style=\"border: 1px solid black;\"> </td><td    style=\"border: 1px solid black;\"> </td><td    style=\"border: 1px solid black;\"> </td></tr>\n",
       "<tr><td    style=\"border: 1px solid black;\">5</td><td    style=\"border: 1px solid black;\"> </td><td    style=\"border: 1px solid black;\"> </td><td    style=\"border: 1px solid black;\"> </td><td    style=\"border: 1px solid black;\"> </td><td    style=\"border: 1px solid black;\"> </td><td    style=\"border: 1px solid black;\"> </td><td    style=\"border: 1px solid black;\"> </td><td    style=\"border: 1px solid black;\"> </td></tr>\n",
       "<tr><td    style=\"border: 1px solid black;\">6</td><td    style=\"border: 1px solid black;\"> </td><td    style=\"border: 1px solid black;\"> </td><td    style=\"border: 1px solid black;\"> </td><td    style=\"border: 1px solid black;\"> </td><td    style=\"border: 1px solid black;\"> </td><td    style=\"border: 1px solid black;\"> </td><td    style=\"border: 1px solid black;\"> </td><td    style=\"border: 1px solid black;\"> </td></tr>\n",
       "<tr><td    style=\"border: 1px solid black;\">7</td><td    style=\"border: 1px solid black;\"> </td><td    style=\"border: 1px solid black;\"> </td><td    style=\"border: 1px solid black;\"> </td><td    style=\"border: 1px solid black;\"> </td><td    style=\"border: 1px solid black;\"> </td><td    style=\"border: 1px solid black;\"> </td><td    style=\"border: 1px solid black;\"> </td><td    style=\"border: 1px solid black;\"> </td></tr>\n",
       "<tr><td    style=\"border: 1px solid black;\">8</td><td    style=\"border: 1px solid black;\"> </td><td    style=\"border: 1px solid black;\"> </td><td    style=\"border: 1px solid black;\"> </td><td    style=\"border: 1px solid black;\"> </td><td    style=\"border: 1px solid black;\"> </td><td    style=\"border: 1px solid black;\"> </td><td    style=\"border: 1px solid black;\"> </td><td    style=\"border: 1px solid black;\"> </td></tr>\n",
       "<tr><td    style=\"border: 1px solid black;\"> </td><td    style=\"border: 1px solid black;\">a</td><td    style=\"border: 1px solid black;\">b</td><td    style=\"border: 1px solid black;\">c</td><td    style=\"border: 1px solid black;\">d</td><td    style=\"border: 1px solid black;\">e</td><td    style=\"border: 1px solid black;\">f</td><td    style=\"border: 1px solid black;\">g</td><td    style=\"border: 1px solid black;\">h</td></tr>\n",
       "</table>"
      ],
      "text/plain": [
       "<IPython.core.display.HTML object>"
      ]
     },
     "metadata": {},
     "output_type": "display_data"
    }
   ],
   "source": [
    "state_list = simulate_game('black', 'c4', 'c8', 'h3')"
   ]
  },
  {
   "cell_type": "code",
   "execution_count": 6,
   "metadata": {
    "collapsed": false,
    "scrolled": false
   },
   "outputs": [
    {
     "name": "stdout",
     "output_type": "stream",
     "text": [
      "Step count: 9\n"
     ]
    },
    {
     "data": {
      "text/html": [
       "<table style=\"border: 2px solid black;\">\n",
       "<tr><td    style=\"border: 1px solid black;\">1</td><td    style=\"border: 1px solid black;\">♔</td><td    style=\"border: 1px solid black;\"> </td><td    style=\"border: 1px solid black;\"> </td><td    style=\"border: 1px solid black;\"> </td><td    style=\"border: 1px solid black;\"> </td><td    style=\"border: 1px solid black;\"> </td><td    style=\"border: 1px solid black;\"> </td><td    style=\"border: 1px solid black;\"> </td></tr>\n",
       "<tr><td    style=\"border: 1px solid black;\">2</td><td    style=\"border: 1px solid black;\"> </td><td    style=\"border: 1px solid black;\">♖</td><td    style=\"border: 1px solid black;\"> </td><td    style=\"border: 1px solid black;\"> </td><td    style=\"border: 1px solid black;\"> </td><td    style=\"border: 1px solid black;\"> </td><td    style=\"border: 1px solid black;\"> </td><td    style=\"border: 1px solid black;\"> </td></tr>\n",
       "<tr><td    style=\"border: 1px solid black;\">3</td><td    style=\"border: 1px solid black;\"> </td><td    style=\"border: 1px solid black;\"> </td><td    style=\"border: 1px solid black;\">♚</td><td    style=\"border: 1px solid black;\"> </td><td    style=\"border: 1px solid black;\"> </td><td    style=\"border: 1px solid black;\"> </td><td    style=\"border: 1px solid black;\"> </td><td    style=\"border: 1px solid black;\"> </td></tr>\n",
       "<tr><td    style=\"border: 1px solid black;\">4</td><td    style=\"border: 1px solid black;\"> </td><td    style=\"border: 1px solid black;\"> </td><td    style=\"border: 1px solid black;\"> </td><td    style=\"border: 1px solid black;\"> </td><td    style=\"border: 1px solid black;\"> </td><td    style=\"border: 1px solid black;\"> </td><td    style=\"border: 1px solid black;\"> </td><td    style=\"border: 1px solid black;\"> </td></tr>\n",
       "<tr><td    style=\"border: 1px solid black;\">5</td><td    style=\"border: 1px solid black;\"> </td><td    style=\"border: 1px solid black;\"> </td><td    style=\"border: 1px solid black;\"> </td><td    style=\"border: 1px solid black;\"> </td><td    style=\"border: 1px solid black;\"> </td><td    style=\"border: 1px solid black;\"> </td><td    style=\"border: 1px solid black;\"> </td><td    style=\"border: 1px solid black;\"> </td></tr>\n",
       "<tr><td    style=\"border: 1px solid black;\">6</td><td    style=\"border: 1px solid black;\"> </td><td    style=\"border: 1px solid black;\"> </td><td    style=\"border: 1px solid black;\"> </td><td    style=\"border: 1px solid black;\"> </td><td    style=\"border: 1px solid black;\"> </td><td    style=\"border: 1px solid black;\"> </td><td    style=\"border: 1px solid black;\"> </td><td    style=\"border: 1px solid black;\"> </td></tr>\n",
       "<tr><td    style=\"border: 1px solid black;\">7</td><td    style=\"border: 1px solid black;\"> </td><td    style=\"border: 1px solid black;\"> </td><td    style=\"border: 1px solid black;\"> </td><td    style=\"border: 1px solid black;\"> </td><td    style=\"border: 1px solid black;\"> </td><td    style=\"border: 1px solid black;\"> </td><td    style=\"border: 1px solid black;\"> </td><td    style=\"border: 1px solid black;\"> </td></tr>\n",
       "<tr><td    style=\"border: 1px solid black;\">8</td><td    style=\"border: 1px solid black;\"> </td><td    style=\"border: 1px solid black;\"> </td><td    style=\"border: 1px solid black;\"> </td><td    style=\"border: 1px solid black;\"> </td><td    style=\"border: 1px solid black;\"> </td><td    style=\"border: 1px solid black;\"> </td><td    style=\"border: 1px solid black;\"> </td><td    style=\"border: 1px solid black;\"> </td></tr>\n",
       "<tr><td    style=\"border: 1px solid black;\"> </td><td    style=\"border: 1px solid black;\">a</td><td    style=\"border: 1px solid black;\">b</td><td    style=\"border: 1px solid black;\">c</td><td    style=\"border: 1px solid black;\">d</td><td    style=\"border: 1px solid black;\">e</td><td    style=\"border: 1px solid black;\">f</td><td    style=\"border: 1px solid black;\">g</td><td    style=\"border: 1px solid black;\">h</td></tr>\n",
       "</table>"
      ],
      "text/plain": [
       "<IPython.core.display.HTML object>"
      ]
     },
     "metadata": {},
     "output_type": "display_data"
    },
    {
     "data": {
      "text/html": [
       "<table style=\"border: 2px solid black;\">\n",
       "<tr><td    style=\"border: 1px solid black;\">1</td><td    style=\"border: 1px solid black;\"> </td><td    style=\"border: 1px solid black;\"> </td><td    style=\"border: 1px solid black;\"> </td><td    style=\"border: 1px solid black;\"> </td><td    style=\"border: 1px solid black;\"> </td><td    style=\"border: 1px solid black;\"> </td><td    style=\"border: 1px solid black;\"> </td><td    style=\"border: 1px solid black;\"> </td></tr>\n",
       "<tr><td    style=\"border: 1px solid black;\">2</td><td    style=\"border: 1px solid black;\">♔</td><td    style=\"border: 1px solid black;\">♖</td><td    style=\"border: 1px solid black;\"> </td><td    style=\"border: 1px solid black;\"> </td><td    style=\"border: 1px solid black;\"> </td><td    style=\"border: 1px solid black;\"> </td><td    style=\"border: 1px solid black;\"> </td><td    style=\"border: 1px solid black;\"> </td></tr>\n",
       "<tr><td    style=\"border: 1px solid black;\">3</td><td    style=\"border: 1px solid black;\"> </td><td    style=\"border: 1px solid black;\"> </td><td    style=\"border: 1px solid black;\">♚</td><td    style=\"border: 1px solid black;\"> </td><td    style=\"border: 1px solid black;\"> </td><td    style=\"border: 1px solid black;\"> </td><td    style=\"border: 1px solid black;\"> </td><td    style=\"border: 1px solid black;\"> </td></tr>\n",
       "<tr><td    style=\"border: 1px solid black;\">4</td><td    style=\"border: 1px solid black;\"> </td><td    style=\"border: 1px solid black;\"> </td><td    style=\"border: 1px solid black;\"> </td><td    style=\"border: 1px solid black;\"> </td><td    style=\"border: 1px solid black;\"> </td><td    style=\"border: 1px solid black;\"> </td><td    style=\"border: 1px solid black;\"> </td><td    style=\"border: 1px solid black;\"> </td></tr>\n",
       "<tr><td    style=\"border: 1px solid black;\">5</td><td    style=\"border: 1px solid black;\"> </td><td    style=\"border: 1px solid black;\"> </td><td    style=\"border: 1px solid black;\"> </td><td    style=\"border: 1px solid black;\"> </td><td    style=\"border: 1px solid black;\"> </td><td    style=\"border: 1px solid black;\"> </td><td    style=\"border: 1px solid black;\"> </td><td    style=\"border: 1px solid black;\"> </td></tr>\n",
       "<tr><td    style=\"border: 1px solid black;\">6</td><td    style=\"border: 1px solid black;\"> </td><td    style=\"border: 1px solid black;\"> </td><td    style=\"border: 1px solid black;\"> </td><td    style=\"border: 1px solid black;\"> </td><td    style=\"border: 1px solid black;\"> </td><td    style=\"border: 1px solid black;\"> </td><td    style=\"border: 1px solid black;\"> </td><td    style=\"border: 1px solid black;\"> </td></tr>\n",
       "<tr><td    style=\"border: 1px solid black;\">7</td><td    style=\"border: 1px solid black;\"> </td><td    style=\"border: 1px solid black;\"> </td><td    style=\"border: 1px solid black;\"> </td><td    style=\"border: 1px solid black;\"> </td><td    style=\"border: 1px solid black;\"> </td><td    style=\"border: 1px solid black;\"> </td><td    style=\"border: 1px solid black;\"> </td><td    style=\"border: 1px solid black;\"> </td></tr>\n",
       "<tr><td    style=\"border: 1px solid black;\">8</td><td    style=\"border: 1px solid black;\"> </td><td    style=\"border: 1px solid black;\"> </td><td    style=\"border: 1px solid black;\"> </td><td    style=\"border: 1px solid black;\"> </td><td    style=\"border: 1px solid black;\"> </td><td    style=\"border: 1px solid black;\"> </td><td    style=\"border: 1px solid black;\"> </td><td    style=\"border: 1px solid black;\"> </td></tr>\n",
       "<tr><td    style=\"border: 1px solid black;\"> </td><td    style=\"border: 1px solid black;\">a</td><td    style=\"border: 1px solid black;\">b</td><td    style=\"border: 1px solid black;\">c</td><td    style=\"border: 1px solid black;\">d</td><td    style=\"border: 1px solid black;\">e</td><td    style=\"border: 1px solid black;\">f</td><td    style=\"border: 1px solid black;\">g</td><td    style=\"border: 1px solid black;\">h</td></tr>\n",
       "</table>"
      ],
      "text/plain": [
       "<IPython.core.display.HTML object>"
      ]
     },
     "metadata": {},
     "output_type": "display_data"
    },
    {
     "data": {
      "text/html": [
       "<table style=\"border: 2px solid black;\">\n",
       "<tr><td    style=\"border: 1px solid black;\">1</td><td    style=\"border: 1px solid black;\"> </td><td    style=\"border: 1px solid black;\"> </td><td    style=\"border: 1px solid black;\"> </td><td    style=\"border: 1px solid black;\"> </td><td    style=\"border: 1px solid black;\"> </td><td    style=\"border: 1px solid black;\"> </td><td    style=\"border: 1px solid black;\"> </td><td    style=\"border: 1px solid black;\"> </td></tr>\n",
       "<tr><td    style=\"border: 1px solid black;\">2</td><td    style=\"border: 1px solid black;\">♔</td><td    style=\"border: 1px solid black;\">♖</td><td    style=\"border: 1px solid black;\"> </td><td    style=\"border: 1px solid black;\"> </td><td    style=\"border: 1px solid black;\"> </td><td    style=\"border: 1px solid black;\"> </td><td    style=\"border: 1px solid black;\"> </td><td    style=\"border: 1px solid black;\"> </td></tr>\n",
       "<tr><td    style=\"border: 1px solid black;\">3</td><td    style=\"border: 1px solid black;\"> </td><td    style=\"border: 1px solid black;\"> </td><td    style=\"border: 1px solid black;\"> </td><td    style=\"border: 1px solid black;\"> </td><td    style=\"border: 1px solid black;\"> </td><td    style=\"border: 1px solid black;\"> </td><td    style=\"border: 1px solid black;\"> </td><td    style=\"border: 1px solid black;\"> </td></tr>\n",
       "<tr><td    style=\"border: 1px solid black;\">4</td><td    style=\"border: 1px solid black;\"> </td><td    style=\"border: 1px solid black;\"> </td><td    style=\"border: 1px solid black;\">♚</td><td    style=\"border: 1px solid black;\"> </td><td    style=\"border: 1px solid black;\"> </td><td    style=\"border: 1px solid black;\"> </td><td    style=\"border: 1px solid black;\"> </td><td    style=\"border: 1px solid black;\"> </td></tr>\n",
       "<tr><td    style=\"border: 1px solid black;\">5</td><td    style=\"border: 1px solid black;\"> </td><td    style=\"border: 1px solid black;\"> </td><td    style=\"border: 1px solid black;\"> </td><td    style=\"border: 1px solid black;\"> </td><td    style=\"border: 1px solid black;\"> </td><td    style=\"border: 1px solid black;\"> </td><td    style=\"border: 1px solid black;\"> </td><td    style=\"border: 1px solid black;\"> </td></tr>\n",
       "<tr><td    style=\"border: 1px solid black;\">6</td><td    style=\"border: 1px solid black;\"> </td><td    style=\"border: 1px solid black;\"> </td><td    style=\"border: 1px solid black;\"> </td><td    style=\"border: 1px solid black;\"> </td><td    style=\"border: 1px solid black;\"> </td><td    style=\"border: 1px solid black;\"> </td><td    style=\"border: 1px solid black;\"> </td><td    style=\"border: 1px solid black;\"> </td></tr>\n",
       "<tr><td    style=\"border: 1px solid black;\">7</td><td    style=\"border: 1px solid black;\"> </td><td    style=\"border: 1px solid black;\"> </td><td    style=\"border: 1px solid black;\"> </td><td    style=\"border: 1px solid black;\"> </td><td    style=\"border: 1px solid black;\"> </td><td    style=\"border: 1px solid black;\"> </td><td    style=\"border: 1px solid black;\"> </td><td    style=\"border: 1px solid black;\"> </td></tr>\n",
       "<tr><td    style=\"border: 1px solid black;\">8</td><td    style=\"border: 1px solid black;\"> </td><td    style=\"border: 1px solid black;\"> </td><td    style=\"border: 1px solid black;\"> </td><td    style=\"border: 1px solid black;\"> </td><td    style=\"border: 1px solid black;\"> </td><td    style=\"border: 1px solid black;\"> </td><td    style=\"border: 1px solid black;\"> </td><td    style=\"border: 1px solid black;\"> </td></tr>\n",
       "<tr><td    style=\"border: 1px solid black;\"> </td><td    style=\"border: 1px solid black;\">a</td><td    style=\"border: 1px solid black;\">b</td><td    style=\"border: 1px solid black;\">c</td><td    style=\"border: 1px solid black;\">d</td><td    style=\"border: 1px solid black;\">e</td><td    style=\"border: 1px solid black;\">f</td><td    style=\"border: 1px solid black;\">g</td><td    style=\"border: 1px solid black;\">h</td></tr>\n",
       "</table>"
      ],
      "text/plain": [
       "<IPython.core.display.HTML object>"
      ]
     },
     "metadata": {},
     "output_type": "display_data"
    },
    {
     "data": {
      "text/html": [
       "<table style=\"border: 2px solid black;\">\n",
       "<tr><td    style=\"border: 1px solid black;\">1</td><td    style=\"border: 1px solid black;\"> </td><td    style=\"border: 1px solid black;\"> </td><td    style=\"border: 1px solid black;\"> </td><td    style=\"border: 1px solid black;\"> </td><td    style=\"border: 1px solid black;\"> </td><td    style=\"border: 1px solid black;\"> </td><td    style=\"border: 1px solid black;\"> </td><td    style=\"border: 1px solid black;\"> </td></tr>\n",
       "<tr><td    style=\"border: 1px solid black;\">2</td><td    style=\"border: 1px solid black;\">♔</td><td    style=\"border: 1px solid black;\"> </td><td    style=\"border: 1px solid black;\">♖</td><td    style=\"border: 1px solid black;\"> </td><td    style=\"border: 1px solid black;\"> </td><td    style=\"border: 1px solid black;\"> </td><td    style=\"border: 1px solid black;\"> </td><td    style=\"border: 1px solid black;\"> </td></tr>\n",
       "<tr><td    style=\"border: 1px solid black;\">3</td><td    style=\"border: 1px solid black;\"> </td><td    style=\"border: 1px solid black;\"> </td><td    style=\"border: 1px solid black;\"> </td><td    style=\"border: 1px solid black;\"> </td><td    style=\"border: 1px solid black;\"> </td><td    style=\"border: 1px solid black;\"> </td><td    style=\"border: 1px solid black;\"> </td><td    style=\"border: 1px solid black;\"> </td></tr>\n",
       "<tr><td    style=\"border: 1px solid black;\">4</td><td    style=\"border: 1px solid black;\"> </td><td    style=\"border: 1px solid black;\"> </td><td    style=\"border: 1px solid black;\">♚</td><td    style=\"border: 1px solid black;\"> </td><td    style=\"border: 1px solid black;\"> </td><td    style=\"border: 1px solid black;\"> </td><td    style=\"border: 1px solid black;\"> </td><td    style=\"border: 1px solid black;\"> </td></tr>\n",
       "<tr><td    style=\"border: 1px solid black;\">5</td><td    style=\"border: 1px solid black;\"> </td><td    style=\"border: 1px solid black;\"> </td><td    style=\"border: 1px solid black;\"> </td><td    style=\"border: 1px solid black;\"> </td><td    style=\"border: 1px solid black;\"> </td><td    style=\"border: 1px solid black;\"> </td><td    style=\"border: 1px solid black;\"> </td><td    style=\"border: 1px solid black;\"> </td></tr>\n",
       "<tr><td    style=\"border: 1px solid black;\">6</td><td    style=\"border: 1px solid black;\"> </td><td    style=\"border: 1px solid black;\"> </td><td    style=\"border: 1px solid black;\"> </td><td    style=\"border: 1px solid black;\"> </td><td    style=\"border: 1px solid black;\"> </td><td    style=\"border: 1px solid black;\"> </td><td    style=\"border: 1px solid black;\"> </td><td    style=\"border: 1px solid black;\"> </td></tr>\n",
       "<tr><td    style=\"border: 1px solid black;\">7</td><td    style=\"border: 1px solid black;\"> </td><td    style=\"border: 1px solid black;\"> </td><td    style=\"border: 1px solid black;\"> </td><td    style=\"border: 1px solid black;\"> </td><td    style=\"border: 1px solid black;\"> </td><td    style=\"border: 1px solid black;\"> </td><td    style=\"border: 1px solid black;\"> </td><td    style=\"border: 1px solid black;\"> </td></tr>\n",
       "<tr><td    style=\"border: 1px solid black;\">8</td><td    style=\"border: 1px solid black;\"> </td><td    style=\"border: 1px solid black;\"> </td><td    style=\"border: 1px solid black;\"> </td><td    style=\"border: 1px solid black;\"> </td><td    style=\"border: 1px solid black;\"> </td><td    style=\"border: 1px solid black;\"> </td><td    style=\"border: 1px solid black;\"> </td><td    style=\"border: 1px solid black;\"> </td></tr>\n",
       "<tr><td    style=\"border: 1px solid black;\"> </td><td    style=\"border: 1px solid black;\">a</td><td    style=\"border: 1px solid black;\">b</td><td    style=\"border: 1px solid black;\">c</td><td    style=\"border: 1px solid black;\">d</td><td    style=\"border: 1px solid black;\">e</td><td    style=\"border: 1px solid black;\">f</td><td    style=\"border: 1px solid black;\">g</td><td    style=\"border: 1px solid black;\">h</td></tr>\n",
       "</table>"
      ],
      "text/plain": [
       "<IPython.core.display.HTML object>"
      ]
     },
     "metadata": {},
     "output_type": "display_data"
    },
    {
     "data": {
      "text/html": [
       "<table style=\"border: 2px solid black;\">\n",
       "<tr><td    style=\"border: 1px solid black;\">1</td><td    style=\"border: 1px solid black;\"> </td><td    style=\"border: 1px solid black;\"> </td><td    style=\"border: 1px solid black;\"> </td><td    style=\"border: 1px solid black;\"> </td><td    style=\"border: 1px solid black;\"> </td><td    style=\"border: 1px solid black;\"> </td><td    style=\"border: 1px solid black;\"> </td><td    style=\"border: 1px solid black;\"> </td></tr>\n",
       "<tr><td    style=\"border: 1px solid black;\">2</td><td    style=\"border: 1px solid black;\">♔</td><td    style=\"border: 1px solid black;\"> </td><td    style=\"border: 1px solid black;\">♖</td><td    style=\"border: 1px solid black;\"> </td><td    style=\"border: 1px solid black;\"> </td><td    style=\"border: 1px solid black;\"> </td><td    style=\"border: 1px solid black;\"> </td><td    style=\"border: 1px solid black;\"> </td></tr>\n",
       "<tr><td    style=\"border: 1px solid black;\">3</td><td    style=\"border: 1px solid black;\"> </td><td    style=\"border: 1px solid black;\"> </td><td    style=\"border: 1px solid black;\"> </td><td    style=\"border: 1px solid black;\"> </td><td    style=\"border: 1px solid black;\"> </td><td    style=\"border: 1px solid black;\"> </td><td    style=\"border: 1px solid black;\"> </td><td    style=\"border: 1px solid black;\"> </td></tr>\n",
       "<tr><td    style=\"border: 1px solid black;\">4</td><td    style=\"border: 1px solid black;\"> </td><td    style=\"border: 1px solid black;\"> </td><td    style=\"border: 1px solid black;\"> </td><td    style=\"border: 1px solid black;\"> </td><td    style=\"border: 1px solid black;\"> </td><td    style=\"border: 1px solid black;\"> </td><td    style=\"border: 1px solid black;\"> </td><td    style=\"border: 1px solid black;\"> </td></tr>\n",
       "<tr><td    style=\"border: 1px solid black;\">5</td><td    style=\"border: 1px solid black;\"> </td><td    style=\"border: 1px solid black;\">♚</td><td    style=\"border: 1px solid black;\"> </td><td    style=\"border: 1px solid black;\"> </td><td    style=\"border: 1px solid black;\"> </td><td    style=\"border: 1px solid black;\"> </td><td    style=\"border: 1px solid black;\"> </td><td    style=\"border: 1px solid black;\"> </td></tr>\n",
       "<tr><td    style=\"border: 1px solid black;\">6</td><td    style=\"border: 1px solid black;\"> </td><td    style=\"border: 1px solid black;\"> </td><td    style=\"border: 1px solid black;\"> </td><td    style=\"border: 1px solid black;\"> </td><td    style=\"border: 1px solid black;\"> </td><td    style=\"border: 1px solid black;\"> </td><td    style=\"border: 1px solid black;\"> </td><td    style=\"border: 1px solid black;\"> </td></tr>\n",
       "<tr><td    style=\"border: 1px solid black;\">7</td><td    style=\"border: 1px solid black;\"> </td><td    style=\"border: 1px solid black;\"> </td><td    style=\"border: 1px solid black;\"> </td><td    style=\"border: 1px solid black;\"> </td><td    style=\"border: 1px solid black;\"> </td><td    style=\"border: 1px solid black;\"> </td><td    style=\"border: 1px solid black;\"> </td><td    style=\"border: 1px solid black;\"> </td></tr>\n",
       "<tr><td    style=\"border: 1px solid black;\">8</td><td    style=\"border: 1px solid black;\"> </td><td    style=\"border: 1px solid black;\"> </td><td    style=\"border: 1px solid black;\"> </td><td    style=\"border: 1px solid black;\"> </td><td    style=\"border: 1px solid black;\"> </td><td    style=\"border: 1px solid black;\"> </td><td    style=\"border: 1px solid black;\"> </td><td    style=\"border: 1px solid black;\"> </td></tr>\n",
       "<tr><td    style=\"border: 1px solid black;\"> </td><td    style=\"border: 1px solid black;\">a</td><td    style=\"border: 1px solid black;\">b</td><td    style=\"border: 1px solid black;\">c</td><td    style=\"border: 1px solid black;\">d</td><td    style=\"border: 1px solid black;\">e</td><td    style=\"border: 1px solid black;\">f</td><td    style=\"border: 1px solid black;\">g</td><td    style=\"border: 1px solid black;\">h</td></tr>\n",
       "</table>"
      ],
      "text/plain": [
       "<IPython.core.display.HTML object>"
      ]
     },
     "metadata": {},
     "output_type": "display_data"
    },
    {
     "data": {
      "text/html": [
       "<table style=\"border: 2px solid black;\">\n",
       "<tr><td    style=\"border: 1px solid black;\">1</td><td    style=\"border: 1px solid black;\"> </td><td    style=\"border: 1px solid black;\"> </td><td    style=\"border: 1px solid black;\"> </td><td    style=\"border: 1px solid black;\"> </td><td    style=\"border: 1px solid black;\"> </td><td    style=\"border: 1px solid black;\"> </td><td    style=\"border: 1px solid black;\"> </td><td    style=\"border: 1px solid black;\"> </td></tr>\n",
       "<tr><td    style=\"border: 1px solid black;\">2</td><td    style=\"border: 1px solid black;\"> </td><td    style=\"border: 1px solid black;\"> </td><td    style=\"border: 1px solid black;\">♖</td><td    style=\"border: 1px solid black;\"> </td><td    style=\"border: 1px solid black;\"> </td><td    style=\"border: 1px solid black;\"> </td><td    style=\"border: 1px solid black;\"> </td><td    style=\"border: 1px solid black;\"> </td></tr>\n",
       "<tr><td    style=\"border: 1px solid black;\">3</td><td    style=\"border: 1px solid black;\"> </td><td    style=\"border: 1px solid black;\">♔</td><td    style=\"border: 1px solid black;\"> </td><td    style=\"border: 1px solid black;\"> </td><td    style=\"border: 1px solid black;\"> </td><td    style=\"border: 1px solid black;\"> </td><td    style=\"border: 1px solid black;\"> </td><td    style=\"border: 1px solid black;\"> </td></tr>\n",
       "<tr><td    style=\"border: 1px solid black;\">4</td><td    style=\"border: 1px solid black;\"> </td><td    style=\"border: 1px solid black;\"> </td><td    style=\"border: 1px solid black;\"> </td><td    style=\"border: 1px solid black;\"> </td><td    style=\"border: 1px solid black;\"> </td><td    style=\"border: 1px solid black;\"> </td><td    style=\"border: 1px solid black;\"> </td><td    style=\"border: 1px solid black;\"> </td></tr>\n",
       "<tr><td    style=\"border: 1px solid black;\">5</td><td    style=\"border: 1px solid black;\"> </td><td    style=\"border: 1px solid black;\">♚</td><td    style=\"border: 1px solid black;\"> </td><td    style=\"border: 1px solid black;\"> </td><td    style=\"border: 1px solid black;\"> </td><td    style=\"border: 1px solid black;\"> </td><td    style=\"border: 1px solid black;\"> </td><td    style=\"border: 1px solid black;\"> </td></tr>\n",
       "<tr><td    style=\"border: 1px solid black;\">6</td><td    style=\"border: 1px solid black;\"> </td><td    style=\"border: 1px solid black;\"> </td><td    style=\"border: 1px solid black;\"> </td><td    style=\"border: 1px solid black;\"> </td><td    style=\"border: 1px solid black;\"> </td><td    style=\"border: 1px solid black;\"> </td><td    style=\"border: 1px solid black;\"> </td><td    style=\"border: 1px solid black;\"> </td></tr>\n",
       "<tr><td    style=\"border: 1px solid black;\">7</td><td    style=\"border: 1px solid black;\"> </td><td    style=\"border: 1px solid black;\"> </td><td    style=\"border: 1px solid black;\"> </td><td    style=\"border: 1px solid black;\"> </td><td    style=\"border: 1px solid black;\"> </td><td    style=\"border: 1px solid black;\"> </td><td    style=\"border: 1px solid black;\"> </td><td    style=\"border: 1px solid black;\"> </td></tr>\n",
       "<tr><td    style=\"border: 1px solid black;\">8</td><td    style=\"border: 1px solid black;\"> </td><td    style=\"border: 1px solid black;\"> </td><td    style=\"border: 1px solid black;\"> </td><td    style=\"border: 1px solid black;\"> </td><td    style=\"border: 1px solid black;\"> </td><td    style=\"border: 1px solid black;\"> </td><td    style=\"border: 1px solid black;\"> </td><td    style=\"border: 1px solid black;\"> </td></tr>\n",
       "<tr><td    style=\"border: 1px solid black;\"> </td><td    style=\"border: 1px solid black;\">a</td><td    style=\"border: 1px solid black;\">b</td><td    style=\"border: 1px solid black;\">c</td><td    style=\"border: 1px solid black;\">d</td><td    style=\"border: 1px solid black;\">e</td><td    style=\"border: 1px solid black;\">f</td><td    style=\"border: 1px solid black;\">g</td><td    style=\"border: 1px solid black;\">h</td></tr>\n",
       "</table>"
      ],
      "text/plain": [
       "<IPython.core.display.HTML object>"
      ]
     },
     "metadata": {},
     "output_type": "display_data"
    },
    {
     "data": {
      "text/html": [
       "<table style=\"border: 2px solid black;\">\n",
       "<tr><td    style=\"border: 1px solid black;\">1</td><td    style=\"border: 1px solid black;\"> </td><td    style=\"border: 1px solid black;\"> </td><td    style=\"border: 1px solid black;\"> </td><td    style=\"border: 1px solid black;\"> </td><td    style=\"border: 1px solid black;\"> </td><td    style=\"border: 1px solid black;\"> </td><td    style=\"border: 1px solid black;\"> </td><td    style=\"border: 1px solid black;\"> </td></tr>\n",
       "<tr><td    style=\"border: 1px solid black;\">2</td><td    style=\"border: 1px solid black;\"> </td><td    style=\"border: 1px solid black;\"> </td><td    style=\"border: 1px solid black;\">♖</td><td    style=\"border: 1px solid black;\"> </td><td    style=\"border: 1px solid black;\"> </td><td    style=\"border: 1px solid black;\"> </td><td    style=\"border: 1px solid black;\"> </td><td    style=\"border: 1px solid black;\"> </td></tr>\n",
       "<tr><td    style=\"border: 1px solid black;\">3</td><td    style=\"border: 1px solid black;\"> </td><td    style=\"border: 1px solid black;\">♔</td><td    style=\"border: 1px solid black;\"> </td><td    style=\"border: 1px solid black;\"> </td><td    style=\"border: 1px solid black;\"> </td><td    style=\"border: 1px solid black;\"> </td><td    style=\"border: 1px solid black;\"> </td><td    style=\"border: 1px solid black;\"> </td></tr>\n",
       "<tr><td    style=\"border: 1px solid black;\">4</td><td    style=\"border: 1px solid black;\"> </td><td    style=\"border: 1px solid black;\"> </td><td    style=\"border: 1px solid black;\"> </td><td    style=\"border: 1px solid black;\"> </td><td    style=\"border: 1px solid black;\"> </td><td    style=\"border: 1px solid black;\"> </td><td    style=\"border: 1px solid black;\"> </td><td    style=\"border: 1px solid black;\"> </td></tr>\n",
       "<tr><td    style=\"border: 1px solid black;\">5</td><td    style=\"border: 1px solid black;\">♚</td><td    style=\"border: 1px solid black;\"> </td><td    style=\"border: 1px solid black;\"> </td><td    style=\"border: 1px solid black;\"> </td><td    style=\"border: 1px solid black;\"> </td><td    style=\"border: 1px solid black;\"> </td><td    style=\"border: 1px solid black;\"> </td><td    style=\"border: 1px solid black;\"> </td></tr>\n",
       "<tr><td    style=\"border: 1px solid black;\">6</td><td    style=\"border: 1px solid black;\"> </td><td    style=\"border: 1px solid black;\"> </td><td    style=\"border: 1px solid black;\"> </td><td    style=\"border: 1px solid black;\"> </td><td    style=\"border: 1px solid black;\"> </td><td    style=\"border: 1px solid black;\"> </td><td    style=\"border: 1px solid black;\"> </td><td    style=\"border: 1px solid black;\"> </td></tr>\n",
       "<tr><td    style=\"border: 1px solid black;\">7</td><td    style=\"border: 1px solid black;\"> </td><td    style=\"border: 1px solid black;\"> </td><td    style=\"border: 1px solid black;\"> </td><td    style=\"border: 1px solid black;\"> </td><td    style=\"border: 1px solid black;\"> </td><td    style=\"border: 1px solid black;\"> </td><td    style=\"border: 1px solid black;\"> </td><td    style=\"border: 1px solid black;\"> </td></tr>\n",
       "<tr><td    style=\"border: 1px solid black;\">8</td><td    style=\"border: 1px solid black;\"> </td><td    style=\"border: 1px solid black;\"> </td><td    style=\"border: 1px solid black;\"> </td><td    style=\"border: 1px solid black;\"> </td><td    style=\"border: 1px solid black;\"> </td><td    style=\"border: 1px solid black;\"> </td><td    style=\"border: 1px solid black;\"> </td><td    style=\"border: 1px solid black;\"> </td></tr>\n",
       "<tr><td    style=\"border: 1px solid black;\"> </td><td    style=\"border: 1px solid black;\">a</td><td    style=\"border: 1px solid black;\">b</td><td    style=\"border: 1px solid black;\">c</td><td    style=\"border: 1px solid black;\">d</td><td    style=\"border: 1px solid black;\">e</td><td    style=\"border: 1px solid black;\">f</td><td    style=\"border: 1px solid black;\">g</td><td    style=\"border: 1px solid black;\">h</td></tr>\n",
       "</table>"
      ],
      "text/plain": [
       "<IPython.core.display.HTML object>"
      ]
     },
     "metadata": {},
     "output_type": "display_data"
    },
    {
     "data": {
      "text/html": [
       "<table style=\"border: 2px solid black;\">\n",
       "<tr><td    style=\"border: 1px solid black;\">1</td><td    style=\"border: 1px solid black;\"> </td><td    style=\"border: 1px solid black;\"> </td><td    style=\"border: 1px solid black;\"> </td><td    style=\"border: 1px solid black;\"> </td><td    style=\"border: 1px solid black;\"> </td><td    style=\"border: 1px solid black;\"> </td><td    style=\"border: 1px solid black;\"> </td><td    style=\"border: 1px solid black;\"> </td></tr>\n",
       "<tr><td    style=\"border: 1px solid black;\">2</td><td    style=\"border: 1px solid black;\"> </td><td    style=\"border: 1px solid black;\"> </td><td    style=\"border: 1px solid black;\">♖</td><td    style=\"border: 1px solid black;\"> </td><td    style=\"border: 1px solid black;\"> </td><td    style=\"border: 1px solid black;\"> </td><td    style=\"border: 1px solid black;\"> </td><td    style=\"border: 1px solid black;\"> </td></tr>\n",
       "<tr><td    style=\"border: 1px solid black;\">3</td><td    style=\"border: 1px solid black;\"> </td><td    style=\"border: 1px solid black;\"> </td><td    style=\"border: 1px solid black;\"> </td><td    style=\"border: 1px solid black;\"> </td><td    style=\"border: 1px solid black;\"> </td><td    style=\"border: 1px solid black;\"> </td><td    style=\"border: 1px solid black;\"> </td><td    style=\"border: 1px solid black;\"> </td></tr>\n",
       "<tr><td    style=\"border: 1px solid black;\">4</td><td    style=\"border: 1px solid black;\"> </td><td    style=\"border: 1px solid black;\"> </td><td    style=\"border: 1px solid black;\">♔</td><td    style=\"border: 1px solid black;\"> </td><td    style=\"border: 1px solid black;\"> </td><td    style=\"border: 1px solid black;\"> </td><td    style=\"border: 1px solid black;\"> </td><td    style=\"border: 1px solid black;\"> </td></tr>\n",
       "<tr><td    style=\"border: 1px solid black;\">5</td><td    style=\"border: 1px solid black;\">♚</td><td    style=\"border: 1px solid black;\"> </td><td    style=\"border: 1px solid black;\"> </td><td    style=\"border: 1px solid black;\"> </td><td    style=\"border: 1px solid black;\"> </td><td    style=\"border: 1px solid black;\"> </td><td    style=\"border: 1px solid black;\"> </td><td    style=\"border: 1px solid black;\"> </td></tr>\n",
       "<tr><td    style=\"border: 1px solid black;\">6</td><td    style=\"border: 1px solid black;\"> </td><td    style=\"border: 1px solid black;\"> </td><td    style=\"border: 1px solid black;\"> </td><td    style=\"border: 1px solid black;\"> </td><td    style=\"border: 1px solid black;\"> </td><td    style=\"border: 1px solid black;\"> </td><td    style=\"border: 1px solid black;\"> </td><td    style=\"border: 1px solid black;\"> </td></tr>\n",
       "<tr><td    style=\"border: 1px solid black;\">7</td><td    style=\"border: 1px solid black;\"> </td><td    style=\"border: 1px solid black;\"> </td><td    style=\"border: 1px solid black;\"> </td><td    style=\"border: 1px solid black;\"> </td><td    style=\"border: 1px solid black;\"> </td><td    style=\"border: 1px solid black;\"> </td><td    style=\"border: 1px solid black;\"> </td><td    style=\"border: 1px solid black;\"> </td></tr>\n",
       "<tr><td    style=\"border: 1px solid black;\">8</td><td    style=\"border: 1px solid black;\"> </td><td    style=\"border: 1px solid black;\"> </td><td    style=\"border: 1px solid black;\"> </td><td    style=\"border: 1px solid black;\"> </td><td    style=\"border: 1px solid black;\"> </td><td    style=\"border: 1px solid black;\"> </td><td    style=\"border: 1px solid black;\"> </td><td    style=\"border: 1px solid black;\"> </td></tr>\n",
       "<tr><td    style=\"border: 1px solid black;\"> </td><td    style=\"border: 1px solid black;\">a</td><td    style=\"border: 1px solid black;\">b</td><td    style=\"border: 1px solid black;\">c</td><td    style=\"border: 1px solid black;\">d</td><td    style=\"border: 1px solid black;\">e</td><td    style=\"border: 1px solid black;\">f</td><td    style=\"border: 1px solid black;\">g</td><td    style=\"border: 1px solid black;\">h</td></tr>\n",
       "</table>"
      ],
      "text/plain": [
       "<IPython.core.display.HTML object>"
      ]
     },
     "metadata": {},
     "output_type": "display_data"
    },
    {
     "data": {
      "text/html": [
       "<table style=\"border: 2px solid black;\">\n",
       "<tr><td    style=\"border: 1px solid black;\">1</td><td    style=\"border: 1px solid black;\"> </td><td    style=\"border: 1px solid black;\"> </td><td    style=\"border: 1px solid black;\"> </td><td    style=\"border: 1px solid black;\"> </td><td    style=\"border: 1px solid black;\"> </td><td    style=\"border: 1px solid black;\"> </td><td    style=\"border: 1px solid black;\"> </td><td    style=\"border: 1px solid black;\"> </td></tr>\n",
       "<tr><td    style=\"border: 1px solid black;\">2</td><td    style=\"border: 1px solid black;\"> </td><td    style=\"border: 1px solid black;\"> </td><td    style=\"border: 1px solid black;\">♖</td><td    style=\"border: 1px solid black;\"> </td><td    style=\"border: 1px solid black;\"> </td><td    style=\"border: 1px solid black;\"> </td><td    style=\"border: 1px solid black;\"> </td><td    style=\"border: 1px solid black;\"> </td></tr>\n",
       "<tr><td    style=\"border: 1px solid black;\">3</td><td    style=\"border: 1px solid black;\"> </td><td    style=\"border: 1px solid black;\"> </td><td    style=\"border: 1px solid black;\"> </td><td    style=\"border: 1px solid black;\"> </td><td    style=\"border: 1px solid black;\"> </td><td    style=\"border: 1px solid black;\"> </td><td    style=\"border: 1px solid black;\"> </td><td    style=\"border: 1px solid black;\"> </td></tr>\n",
       "<tr><td    style=\"border: 1px solid black;\">4</td><td    style=\"border: 1px solid black;\">♚</td><td    style=\"border: 1px solid black;\"> </td><td    style=\"border: 1px solid black;\">♔</td><td    style=\"border: 1px solid black;\"> </td><td    style=\"border: 1px solid black;\"> </td><td    style=\"border: 1px solid black;\"> </td><td    style=\"border: 1px solid black;\"> </td><td    style=\"border: 1px solid black;\"> </td></tr>\n",
       "<tr><td    style=\"border: 1px solid black;\">5</td><td    style=\"border: 1px solid black;\"> </td><td    style=\"border: 1px solid black;\"> </td><td    style=\"border: 1px solid black;\"> </td><td    style=\"border: 1px solid black;\"> </td><td    style=\"border: 1px solid black;\"> </td><td    style=\"border: 1px solid black;\"> </td><td    style=\"border: 1px solid black;\"> </td><td    style=\"border: 1px solid black;\"> </td></tr>\n",
       "<tr><td    style=\"border: 1px solid black;\">6</td><td    style=\"border: 1px solid black;\"> </td><td    style=\"border: 1px solid black;\"> </td><td    style=\"border: 1px solid black;\"> </td><td    style=\"border: 1px solid black;\"> </td><td    style=\"border: 1px solid black;\"> </td><td    style=\"border: 1px solid black;\"> </td><td    style=\"border: 1px solid black;\"> </td><td    style=\"border: 1px solid black;\"> </td></tr>\n",
       "<tr><td    style=\"border: 1px solid black;\">7</td><td    style=\"border: 1px solid black;\"> </td><td    style=\"border: 1px solid black;\"> </td><td    style=\"border: 1px solid black;\"> </td><td    style=\"border: 1px solid black;\"> </td><td    style=\"border: 1px solid black;\"> </td><td    style=\"border: 1px solid black;\"> </td><td    style=\"border: 1px solid black;\"> </td><td    style=\"border: 1px solid black;\"> </td></tr>\n",
       "<tr><td    style=\"border: 1px solid black;\">8</td><td    style=\"border: 1px solid black;\"> </td><td    style=\"border: 1px solid black;\"> </td><td    style=\"border: 1px solid black;\"> </td><td    style=\"border: 1px solid black;\"> </td><td    style=\"border: 1px solid black;\"> </td><td    style=\"border: 1px solid black;\"> </td><td    style=\"border: 1px solid black;\"> </td><td    style=\"border: 1px solid black;\"> </td></tr>\n",
       "<tr><td    style=\"border: 1px solid black;\"> </td><td    style=\"border: 1px solid black;\">a</td><td    style=\"border: 1px solid black;\">b</td><td    style=\"border: 1px solid black;\">c</td><td    style=\"border: 1px solid black;\">d</td><td    style=\"border: 1px solid black;\">e</td><td    style=\"border: 1px solid black;\">f</td><td    style=\"border: 1px solid black;\">g</td><td    style=\"border: 1px solid black;\">h</td></tr>\n",
       "</table>"
      ],
      "text/plain": [
       "<IPython.core.display.HTML object>"
      ]
     },
     "metadata": {},
     "output_type": "display_data"
    },
    {
     "data": {
      "text/html": [
       "<table style=\"border: 2px solid black;\">\n",
       "<tr><td    style=\"border: 1px solid black;\">1</td><td    style=\"border: 1px solid black;\"> </td><td    style=\"border: 1px solid black;\"> </td><td    style=\"border: 1px solid black;\"> </td><td    style=\"border: 1px solid black;\"> </td><td    style=\"border: 1px solid black;\"> </td><td    style=\"border: 1px solid black;\"> </td><td    style=\"border: 1px solid black;\"> </td><td    style=\"border: 1px solid black;\"> </td></tr>\n",
       "<tr><td    style=\"border: 1px solid black;\">2</td><td    style=\"border: 1px solid black;\">♖</td><td    style=\"border: 1px solid black;\"> </td><td    style=\"border: 1px solid black;\"> </td><td    style=\"border: 1px solid black;\"> </td><td    style=\"border: 1px solid black;\"> </td><td    style=\"border: 1px solid black;\"> </td><td    style=\"border: 1px solid black;\"> </td><td    style=\"border: 1px solid black;\"> </td></tr>\n",
       "<tr><td    style=\"border: 1px solid black;\">3</td><td    style=\"border: 1px solid black;\"> </td><td    style=\"border: 1px solid black;\"> </td><td    style=\"border: 1px solid black;\"> </td><td    style=\"border: 1px solid black;\"> </td><td    style=\"border: 1px solid black;\"> </td><td    style=\"border: 1px solid black;\"> </td><td    style=\"border: 1px solid black;\"> </td><td    style=\"border: 1px solid black;\"> </td></tr>\n",
       "<tr><td    style=\"border: 1px solid black;\">4</td><td    style=\"border: 1px solid black;\">♚</td><td    style=\"border: 1px solid black;\"> </td><td    style=\"border: 1px solid black;\">♔</td><td    style=\"border: 1px solid black;\"> </td><td    style=\"border: 1px solid black;\"> </td><td    style=\"border: 1px solid black;\"> </td><td    style=\"border: 1px solid black;\"> </td><td    style=\"border: 1px solid black;\"> </td></tr>\n",
       "<tr><td    style=\"border: 1px solid black;\">5</td><td    style=\"border: 1px solid black;\"> </td><td    style=\"border: 1px solid black;\"> </td><td    style=\"border: 1px solid black;\"> </td><td    style=\"border: 1px solid black;\"> </td><td    style=\"border: 1px solid black;\"> </td><td    style=\"border: 1px solid black;\"> </td><td    style=\"border: 1px solid black;\"> </td><td    style=\"border: 1px solid black;\"> </td></tr>\n",
       "<tr><td    style=\"border: 1px solid black;\">6</td><td    style=\"border: 1px solid black;\"> </td><td    style=\"border: 1px solid black;\"> </td><td    style=\"border: 1px solid black;\"> </td><td    style=\"border: 1px solid black;\"> </td><td    style=\"border: 1px solid black;\"> </td><td    style=\"border: 1px solid black;\"> </td><td    style=\"border: 1px solid black;\"> </td><td    style=\"border: 1px solid black;\"> </td></tr>\n",
       "<tr><td    style=\"border: 1px solid black;\">7</td><td    style=\"border: 1px solid black;\"> </td><td    style=\"border: 1px solid black;\"> </td><td    style=\"border: 1px solid black;\"> </td><td    style=\"border: 1px solid black;\"> </td><td    style=\"border: 1px solid black;\"> </td><td    style=\"border: 1px solid black;\"> </td><td    style=\"border: 1px solid black;\"> </td><td    style=\"border: 1px solid black;\"> </td></tr>\n",
       "<tr><td    style=\"border: 1px solid black;\">8</td><td    style=\"border: 1px solid black;\"> </td><td    style=\"border: 1px solid black;\"> </td><td    style=\"border: 1px solid black;\"> </td><td    style=\"border: 1px solid black;\"> </td><td    style=\"border: 1px solid black;\"> </td><td    style=\"border: 1px solid black;\"> </td><td    style=\"border: 1px solid black;\"> </td><td    style=\"border: 1px solid black;\"> </td></tr>\n",
       "<tr><td    style=\"border: 1px solid black;\"> </td><td    style=\"border: 1px solid black;\">a</td><td    style=\"border: 1px solid black;\">b</td><td    style=\"border: 1px solid black;\">c</td><td    style=\"border: 1px solid black;\">d</td><td    style=\"border: 1px solid black;\">e</td><td    style=\"border: 1px solid black;\">f</td><td    style=\"border: 1px solid black;\">g</td><td    style=\"border: 1px solid black;\">h</td></tr>\n",
       "</table>"
      ],
      "text/plain": [
       "<IPython.core.display.HTML object>"
      ]
     },
     "metadata": {},
     "output_type": "display_data"
    },
    {
     "data": {
      "text/plain": [
       "[<z1.GameState instance at 0x10b053b00>,\n",
       " <z1.GameState instance at 0x10b053758>,\n",
       " <z1.GameState instance at 0x10ae1c128>,\n",
       " <z1.GameState instance at 0x10a0ae560>,\n",
       " <z1.GameState instance at 0x10b31fa70>,\n",
       " <z1.GameState instance at 0x10c0311b8>,\n",
       " <z1.GameState instance at 0x10c0a0488>,\n",
       " <z1.GameState instance at 0x10b424638>,\n",
       " <z1.GameState instance at 0x10b6f6d88>,\n",
       " <z1.GameState instance at 0x10c757a28>]"
      ]
     },
     "execution_count": 6,
     "metadata": {},
     "output_type": "execute_result"
    }
   ],
   "source": [
    "simulate_game('white', 'a1', 'b2', 'c3')"
   ]
  }
 ],
 "metadata": {
  "kernelspec": {
   "display_name": "Python 2",
   "language": "python",
   "name": "python2"
  },
  "language_info": {
   "codemirror_mode": {
    "name": "ipython",
    "version": 2
   },
   "file_extension": ".py",
   "mimetype": "text/x-python",
   "name": "python",
   "nbconvert_exporter": "python",
   "pygments_lexer": "ipython2",
   "version": "2.7.13"
  }
 },
 "nbformat": 4,
 "nbformat_minor": 2
}
